{
 "cells": [
  {
   "cell_type": "code",
   "execution_count": 1,
   "metadata": {},
   "outputs": [],
   "source": [
    "from dask.distributed import Client, Scheduler, Worker\n",
    "import asyncio"
   ]
  },
  {
   "cell_type": "code",
   "execution_count": 2,
   "metadata": {},
   "outputs": [
    {
     "name": "stderr",
     "output_type": "stream",
     "text": [
      "2024-07-25 20:16:22,393 - distributed.scheduler - INFO - State start\n",
      "2024-07-25 20:16:22,396 - distributed.diskutils - INFO - Found stale lock file and directory 'C:\\\\Users\\\\MSI\\\\AppData\\\\Local\\\\Temp\\\\dask-scratch-space\\\\scheduler-6ygby9_4', purging\n",
      "2024-07-25 20:16:22,418 - distributed.scheduler - INFO -   Scheduler at:   tcp://192.168.1.9:59174\n",
      "2024-07-25 20:16:22,418 - distributed.scheduler - INFO -   dashboard at:  http://192.168.1.9:8787/status\n",
      "2024-07-25 20:16:22,420 - distributed.scheduler - INFO - Registering Worker plugin shuffle\n"
     ]
    },
    {
     "data": {
      "text/html": [
       "<strong>Scheduler: </strong>tcp://192.168.1.9:59174\n",
       "<span style=\"color: var(--jp-ui-font-color2, gray)\"> workers: </span>0\n",
       "<span style=\"color: var(--jp-ui-font-color2, gray)\"> cores: </span>0\n",
       "<span style=\"color: var(--jp-ui-font-color2, gray)\"> tasks: </span>0"
      ],
      "text/plain": [
       "<Scheduler 'tcp://192.168.1.9:59174', workers: 0, cores: 0, tasks: 0>"
      ]
     },
     "execution_count": 2,
     "metadata": {},
     "output_type": "execute_result"
    }
   ],
   "source": [
    "scheduler = Scheduler()\n",
    "await scheduler.start()\n"
   ]
  },
  {
   "cell_type": "code",
   "execution_count": 3,
   "metadata": {},
   "outputs": [
    {
     "name": "stdout",
     "output_type": "stream",
     "text": [
      "<Scheduler 'tcp://192.168.1.9:59174', workers: 0, cores: 0, tasks: 0>\n"
     ]
    }
   ],
   "source": [
    "print(scheduler)\n",
    "scheduler.stop()"
   ]
  }
 ],
 "metadata": {
  "kernelspec": {
   "display_name": "fastapi",
   "language": "python",
   "name": "python3"
  },
  "language_info": {
   "codemirror_mode": {
    "name": "ipython",
    "version": 3
   },
   "file_extension": ".py",
   "mimetype": "text/x-python",
   "name": "python",
   "nbconvert_exporter": "python",
   "pygments_lexer": "ipython3",
   "version": "3.12.3"
  }
 },
 "nbformat": 4,
 "nbformat_minor": 2
}
